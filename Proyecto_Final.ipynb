{
 "cells": [
  {
   "source": [
    "# Proyecto Final\n",
    "\n",
    "### Integrantes:\n",
    "* Daniel Cifuentes\n",
    "* Andrea Rivas"
   ],
   "cell_type": "markdown",
   "metadata": {}
  },
  {
   "cell_type": "code",
   "execution_count": 9,
   "metadata": {},
   "outputs": [],
   "source": [
    "# Librerias\n",
    "import numpy as np\n",
    "import pandas as pd\n",
    "import seaborn as sns\n",
    "# Extra\n",
    "from sklearn.model_selection import train_test_split"
   ]
  },
  {
   "cell_type": "code",
   "execution_count": 2,
   "metadata": {},
   "outputs": [
    {
     "output_type": "execute_result",
     "data": {
      "text/plain": [
       "             0    1       2    3       4     5\n",
       "0     208500.0  7.0   856.0  8.0  2003.0  65.0\n",
       "1     181500.0  6.0  1262.0  6.0  1976.0  80.0\n",
       "2     223500.0  7.0   920.0  6.0  2001.0  68.0\n",
       "3     140000.0  7.0   961.0  7.0  1915.0  60.0\n",
       "4     250000.0  8.0  1145.0  9.0  2000.0  84.0\n",
       "...        ...  ...     ...  ...     ...   ...\n",
       "1455  175000.0  6.0   953.0  7.0  1999.0  62.0\n",
       "1456  210000.0  6.0  2073.0  7.0  1978.0  85.0\n",
       "1457  266500.0  7.0  1188.0  9.0  1941.0  66.0\n",
       "1458  142125.0  5.0  1078.0  5.0  1950.0  68.0\n",
       "1459  147500.0  5.0  1256.0  6.0  1965.0  75.0\n",
       "\n",
       "[1460 rows x 6 columns]"
      ],
      "text/html": "<div>\n<style scoped>\n    .dataframe tbody tr th:only-of-type {\n        vertical-align: middle;\n    }\n\n    .dataframe tbody tr th {\n        vertical-align: top;\n    }\n\n    .dataframe thead th {\n        text-align: right;\n    }\n</style>\n<table border=\"1\" class=\"dataframe\">\n  <thead>\n    <tr style=\"text-align: right;\">\n      <th></th>\n      <th>0</th>\n      <th>1</th>\n      <th>2</th>\n      <th>3</th>\n      <th>4</th>\n      <th>5</th>\n    </tr>\n  </thead>\n  <tbody>\n    <tr>\n      <th>0</th>\n      <td>208500.0</td>\n      <td>7.0</td>\n      <td>856.0</td>\n      <td>8.0</td>\n      <td>2003.0</td>\n      <td>65.0</td>\n    </tr>\n    <tr>\n      <th>1</th>\n      <td>181500.0</td>\n      <td>6.0</td>\n      <td>1262.0</td>\n      <td>6.0</td>\n      <td>1976.0</td>\n      <td>80.0</td>\n    </tr>\n    <tr>\n      <th>2</th>\n      <td>223500.0</td>\n      <td>7.0</td>\n      <td>920.0</td>\n      <td>6.0</td>\n      <td>2001.0</td>\n      <td>68.0</td>\n    </tr>\n    <tr>\n      <th>3</th>\n      <td>140000.0</td>\n      <td>7.0</td>\n      <td>961.0</td>\n      <td>7.0</td>\n      <td>1915.0</td>\n      <td>60.0</td>\n    </tr>\n    <tr>\n      <th>4</th>\n      <td>250000.0</td>\n      <td>8.0</td>\n      <td>1145.0</td>\n      <td>9.0</td>\n      <td>2000.0</td>\n      <td>84.0</td>\n    </tr>\n    <tr>\n      <th>...</th>\n      <td>...</td>\n      <td>...</td>\n      <td>...</td>\n      <td>...</td>\n      <td>...</td>\n      <td>...</td>\n    </tr>\n    <tr>\n      <th>1455</th>\n      <td>175000.0</td>\n      <td>6.0</td>\n      <td>953.0</td>\n      <td>7.0</td>\n      <td>1999.0</td>\n      <td>62.0</td>\n    </tr>\n    <tr>\n      <th>1456</th>\n      <td>210000.0</td>\n      <td>6.0</td>\n      <td>2073.0</td>\n      <td>7.0</td>\n      <td>1978.0</td>\n      <td>85.0</td>\n    </tr>\n    <tr>\n      <th>1457</th>\n      <td>266500.0</td>\n      <td>7.0</td>\n      <td>1188.0</td>\n      <td>9.0</td>\n      <td>1941.0</td>\n      <td>66.0</td>\n    </tr>\n    <tr>\n      <th>1458</th>\n      <td>142125.0</td>\n      <td>5.0</td>\n      <td>1078.0</td>\n      <td>5.0</td>\n      <td>1950.0</td>\n      <td>68.0</td>\n    </tr>\n    <tr>\n      <th>1459</th>\n      <td>147500.0</td>\n      <td>5.0</td>\n      <td>1256.0</td>\n      <td>6.0</td>\n      <td>1965.0</td>\n      <td>75.0</td>\n    </tr>\n  </tbody>\n</table>\n<p>1460 rows × 6 columns</p>\n</div>"
     },
     "metadata": {},
     "execution_count": 2
    }
   ],
   "source": [
    "data = pd.DataFrame(np.load('./data/proyecto_training_data.npy'))\n",
    "data"
   ]
  },
  {
   "cell_type": "code",
   "execution_count": 3,
   "metadata": {},
   "outputs": [],
   "source": [
    "# Separación de train (80%) y test (20%)\n",
    "train, test = train_test_split(data, test_size = 0.2)"
   ]
  },
  {
   "cell_type": "code",
   "execution_count": 4,
   "metadata": {},
   "outputs": [
    {
     "output_type": "stream",
     "name": "stdout",
     "text": [
      "<class 'pandas.core.frame.DataFrame'>\nInt64Index: 1168 entries, 455 to 385\nData columns (total 6 columns):\n #   Column  Non-Null Count  Dtype  \n---  ------  --------------  -----  \n 0   0       1168 non-null   float64\n 1   1       1168 non-null   float64\n 2   2       1168 non-null   float64\n 3   3       1168 non-null   float64\n 4   4       1168 non-null   float64\n 5   5       954 non-null    float64\ndtypes: float64(6)\nmemory usage: 63.9 KB\n"
     ]
    }
   ],
   "source": [
    "# Resumen \n",
    "train.info()"
   ]
  },
  {
   "source": [
    "## 3. Análisis Exploratorio"
   ],
   "cell_type": "markdown",
   "metadata": {}
  },
  {
   "cell_type": "code",
   "execution_count": 5,
   "metadata": {},
   "outputs": [
    {
     "output_type": "execute_result",
     "data": {
      "text/plain": [
       "0    182615.795377\n",
       "1         6.113014\n",
       "2      1164.388699\n",
       "3         6.523973\n",
       "4      1971.658390\n",
       "5        70.417191\n",
       "dtype: float64"
      ]
     },
     "metadata": {},
     "execution_count": 5
    }
   ],
   "source": [
    "# Media \n",
    "train.mean()"
   ]
  },
  {
   "cell_type": "code",
   "execution_count": 6,
   "metadata": {},
   "outputs": [
    {
     "output_type": "execute_result",
     "data": {
      "text/plain": [
       "0    755000.0\n",
       "1        10.0\n",
       "2      4692.0\n",
       "3        14.0\n",
       "4      2010.0\n",
       "5       313.0\n",
       "dtype: float64"
      ]
     },
     "metadata": {},
     "execution_count": 6
    }
   ],
   "source": [
    "# Valores máximos\n",
    "train.max()"
   ]
  },
  {
   "cell_type": "code",
   "execution_count": 7,
   "metadata": {},
   "outputs": [
    {
     "output_type": "execute_result",
     "data": {
      "text/plain": [
       "0    34900.0\n",
       "1        1.0\n",
       "2      334.0\n",
       "3        2.0\n",
       "4     1872.0\n",
       "5       21.0\n",
       "dtype: float64"
      ]
     },
     "metadata": {},
     "execution_count": 7
    }
   ],
   "source": [
    "# Valores mínimos\n",
    "train.min()"
   ]
  },
  {
   "cell_type": "code",
   "execution_count": 8,
   "metadata": {},
   "outputs": [],
   "source": [
    "# Rango"
   ]
  },
  {
   "cell_type": "code",
   "execution_count": 8,
   "metadata": {},
   "outputs": [
    {
     "output_type": "execute_result",
     "data": {
      "text/plain": [
       "0    81079.110982\n",
       "1        1.401151\n",
       "2      395.080450\n",
       "3        1.638580\n",
       "4       30.366184\n",
       "5       24.982217\n",
       "dtype: float64"
      ]
     },
     "metadata": {},
     "execution_count": 8
    }
   ],
   "source": [
    "# Desviación estándar\n",
    "train.std()"
   ]
  },
  {
   "source": [
    "## 4. Histogramas"
   ],
   "cell_type": "markdown",
   "metadata": {}
  },
  {
   "cell_type": "code",
   "execution_count": null,
   "metadata": {},
   "outputs": [],
   "source": []
  },
  {
   "source": [
    "## 5. Análisis de Selección de Variables"
   ],
   "cell_type": "markdown",
   "metadata": {}
  },
  {
   "cell_type": "code",
   "execution_count": null,
   "metadata": {},
   "outputs": [],
   "source": []
  },
  {
   "cell_type": "code",
   "execution_count": 20,
   "metadata": {},
   "outputs": [
    {
     "output_type": "execute_result",
     "data": {
      "text/plain": [
       "0       208493.0\n",
       "1       181494.0\n",
       "2       223493.0\n",
       "3       139993.0\n",
       "4       249992.0\n",
       "          ...   \n",
       "1455    174994.0\n",
       "1456    209994.0\n",
       "1457    266493.0\n",
       "1458    142120.0\n",
       "1459    147495.0\n",
       "Length: 1460, dtype: float64"
      ]
     },
     "metadata": {},
     "execution_count": 20
    }
   ],
   "source": [
    "# y = β0 + β1 ∗ x\n",
    "b0 = 15\n",
    "b1 = 1\n",
    "a = 0.15\n",
    "data2 = pd.DataFrame({'x': [1, 3, 4, 5, 6], 'y': [20, 25, 30, 40, 55]})\n",
    "data2"
   ]
  },
  {
   "cell_type": "code",
   "execution_count": null,
   "metadata": {},
   "outputs": [],
   "source": [
    "y_s = b0 + data2.x * b1\n",
    "error = ((data2.y - y_s) ** 2).sum()/(2 * data2.y.count())\n",
    "error"
   ]
  },
  {
   "cell_type": "code",
   "execution_count": null,
   "metadata": {},
   "outputs": [],
   "source": [
    "#Gradiente b0\n",
    "gb0 = ((y_s - y).sum())/y_s.count()\n",
    "gb0"
   ]
  },
  {
   "cell_type": "code",
   "execution_count": null,
   "metadata": {},
   "outputs": [],
   "source": [
    "# Gradiente b1\n",
    "gb1 = (((y_s - y) * data2.x).sum())/y_s.count()\n",
    "gb1"
   ]
  },
  {
   "cell_type": "code",
   "execution_count": null,
   "metadata": {},
   "outputs": [],
   "source": [
    "#Nuevos valores de b0 y b1\n",
    "nb0 = b0 - a * gb0\n",
    "nb1 = b1 - a * gb1\n",
    "nb0\n",
    "nb1"
   ]
  },
  {
   "cell_type": "code",
   "execution_count": null,
   "metadata": {},
   "outputs": [],
   "source": [
    "def regresion_lineal(x, y, epoch, iec, a): # iec-> imprimir error cada\n",
    "#Hola"
   ]
  }
 ],
 "metadata": {
  "kernelspec": {
   "name": "python3",
   "display_name": "Python 3.8.5 64-bit (conda)",
   "metadata": {
    "interpreter": {
     "hash": "c7e26ee5c69bf34ace14b2bc70a9d483390e7e7f6bd1a684f2533eb3ad001486"
    }
   }
  },
  "language_info": {
   "codemirror_mode": {
    "name": "ipython",
    "version": 3
   },
   "file_extension": ".py",
   "mimetype": "text/x-python",
   "name": "python",
   "nbconvert_exporter": "python",
   "pygments_lexer": "ipython3",
   "version": "3.8.5-final"
  },
  "metadata": {
   "interpreter": {
    "hash": "d0f1a46e1b8bb49f6fe66dfa14ba01e1c4ea6e7377c07a6040c9a42d856a631d"
   }
  }
 },
 "nbformat": 4,
 "nbformat_minor": 4
}